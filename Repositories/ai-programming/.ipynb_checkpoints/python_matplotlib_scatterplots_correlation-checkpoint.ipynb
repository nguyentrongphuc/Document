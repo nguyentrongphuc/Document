{
 "cells": [
  {
   "cell_type": "markdown",
   "id": "e4f8f713",
   "metadata": {},
   "source": [
    "# Scatterplots\n",
    "\n",
    "- https://www.youtube.com/watch?v=wqMwTDVT9_Y\n",
    "- https://www.youtube.com/watch?v=wBDC5AmYgyg\n",
    "\n",
    "If we want to inspect the relationship between two numeric variables, the standard choice of plot is the `scatterplot`. In a scatterplot, each data point is plotted individually as a point, its x-position corresponding to one feature value and its y-position corresponding to the second.\n",
    "\n",
    "`matplotlib.pyplot.scatter()`\n",
    "\n",
    "One basic way of creating a scatterplot is through Matplotlib's `scatter` function:"
   ]
  },
  {
   "cell_type": "code",
   "execution_count": 2,
   "id": "650da03b",
   "metadata": {},
   "outputs": [
    {
     "ename": "NameError",
     "evalue": "name 'pd' is not defined",
     "output_type": "error",
     "traceback": [
      "\u001b[0;31m---------------------------------------------------------------------------\u001b[0m",
      "\u001b[0;31mNameError\u001b[0m                                 Traceback (most recent call last)",
      "Cell \u001b[0;32mIn[2], line 5\u001b[0m\n\u001b[1;32m      1\u001b[0m \u001b[38;5;66;03m# Example 1 a. Scatter plot showing negative correlation between two variables\u001b[39;00m\n\u001b[1;32m      2\u001b[0m \u001b[38;5;66;03m# TO DO: Necessary import\u001b[39;00m\n\u001b[1;32m      3\u001b[0m \n\u001b[1;32m      4\u001b[0m \u001b[38;5;66;03m# Read the CSV file\u001b[39;00m\n\u001b[0;32m----> 5\u001b[0m fuel_econ \u001b[38;5;241m=\u001b[39m pd\u001b[38;5;241m.\u001b[39mread_csv(\u001b[38;5;124m'\u001b[39m\u001b[38;5;124mdata/fuel_econ.csv\u001b[39m\u001b[38;5;124m'\u001b[39m)\n\u001b[1;32m      6\u001b[0m fuel_econ\u001b[38;5;241m.\u001b[39mhead(\u001b[38;5;241m10\u001b[39m)\n\u001b[1;32m      8\u001b[0m \u001b[38;5;66;03m# Scatter plot\u001b[39;00m\n",
      "\u001b[0;31mNameError\u001b[0m: name 'pd' is not defined"
     ]
    }
   ],
   "source": [
    "# Example 1 a. Scatter plot showing negative correlation between two variables\n",
    "# TO DO: Necessary import\n",
    "\n",
    "# Read the CSV file\n",
    "fuel_econ = pd.read_csv('data/fuel_econ.csv')\n",
    "fuel_econ.head(10)\n",
    "\n",
    "# Scatter plot\n",
    "plt.scatter(data = fuel_econ, x = 'displ', y = 'comb');\n",
    "plt.xlabel('Displacement (1)')\n",
    "plt.ylabel('Combined Fuel Eff. (mpg)')"
   ]
  },
  {
   "cell_type": "code",
   "execution_count": null,
   "id": "375fcb19",
   "metadata": {},
   "outputs": [],
   "source": []
  }
 ],
 "metadata": {
  "kernelspec": {
   "display_name": "Python 3 (ipykernel)",
   "language": "python",
   "name": "python3"
  },
  "language_info": {
   "codemirror_mode": {
    "name": "ipython",
    "version": 3
   },
   "file_extension": ".py",
   "mimetype": "text/x-python",
   "name": "python",
   "nbconvert_exporter": "python",
   "pygments_lexer": "ipython3",
   "version": "3.11.5"
  }
 },
 "nbformat": 4,
 "nbformat_minor": 5
}
