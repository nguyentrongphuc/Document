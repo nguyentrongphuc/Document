{
 "cells": [
  {
   "cell_type": "markdown",
   "metadata": {},
   "source": [
    "# Neural networks with PyTorch\n",
    "\n",
    "Deep learning networks tend to be massive with dozens or hundreds of layers, that's where the term \"deep\" comes from. You can build one of these deep networks using only weight matrices as we did in the previous notebook, but in general it's very cumbersome and difficult to implement. PyTorch has a nice module `nn` that provides a nice way to efficiently build large neural networks."
   ]
  },
  {
   "cell_type": "code",
   "execution_count": 13,
   "metadata": {},
   "outputs": [],
   "source": [
    "# Import necessary packages\n",
    "\n",
    "%matplotlib inline\n",
    "%config InlineBackend.figure_format = 'retina'\n",
    "\n",
    "import numpy as np\n",
    "import torch\n",
    "\n",
    "import helper\n",
    "\n",
    "import matplotlib.pyplot as plt"
   ]
  },
  {
   "cell_type": "markdown",
   "metadata": {},
   "source": [
    "\n",
    "Now we're going to build a larger network that can solve a (formerly) difficult problem, identifying text in an image. Here we'll use the MNIST dataset which consists of greyscale handwritten digits. Each image is 28x28 pixels, you can see a sample below\n",
    "\n",
    "<img src='assets/mnist.png'>\n",
    "\n",
    "Our goal is to build a neural network that can take one of these images and predict the digit in the image.\n",
    "\n",
    "First up, we need to get our dataset. This is provided through the `torchvision` package. The code below will download the MNIST dataset, then create training and test datasets for us. Don't worry too much about the details here, you'll learn more about this later."
   ]
  },
  {
   "cell_type": "code",
   "execution_count": 14,
   "metadata": {},
   "outputs": [],
   "source": [
    "# The MNIST datasets are hosted on yann.lecun.com that has moved under CloudFlare protection\n",
    "# Run this script to enable the datasets download\n",
    "# Reference: https://github.com/pytorch/vision/issues/1938\n",
    "\n",
    "from six.moves import urllib\n",
    "opener = urllib.request.build_opener()\n",
    "opener.addheaders = [('User-agent', 'Mozilla/5.0')]\n",
    "urllib.request.install_opener(opener)"
   ]
  },
  {
   "cell_type": "code",
   "execution_count": 15,
   "metadata": {},
   "outputs": [],
   "source": [
    "### Run this cell\n",
    "\n",
    "from torchvision import datasets, transforms\n",
    "\n",
    "# Define a transform to normalize the data\n",
    "transform = transforms.Compose([transforms.ToTensor(),\n",
    "                              transforms.Normalize((0.5,), (0.5,)),\n",
    "                              ])\n",
    "# Download and load the training data\n",
    "trainset = datasets.MNIST('~/.pytorch/MNIST_data/', download=True, train=True, transform=transform)\n",
    "trainloader = torch.utils.data.DataLoader(trainset, batch_size=64, shuffle=True)"
   ]
  },
  {
   "cell_type": "markdown",
   "metadata": {},
   "source": [
    "We have the training data loaded into `trainloader` and we make that an iterator with `iter(trainloader)`. Later, we'll use this to loop through the dataset for training, like\n",
    "\n",
    "```python\n",
    "for image, label in trainloader:\n",
    "    ## do things with images and labels\n",
    "```\n",
    "\n",
    "You'll notice I created the `trainloader` with a batch size of 64, and `shuffle=True`. The batch size is the number of images we get in one iteration from the data loader and pass through our network, often called a *batch*. And `shuffle=True` tells it to shuffle the dataset every time we start going through the data loader again. But here I'm just grabbing the first batch so we can check out the data. We can see below that `images` is just a tensor with size `(64, 1, 28, 28)`. So, 64 images per batch, 1 color channel, and 28x28 images."
   ]
  },
  {
   "cell_type": "code",
   "execution_count": 20,
   "metadata": {},
   "outputs": [
    {
     "name": "stdout",
     "output_type": "stream",
     "text": [
      "<class 'torch.Tensor'>\n",
      "torch.Size([64, 1, 28, 28])\n",
      "torch.Size([64])\n"
     ]
    }
   ],
   "source": [
    "dataiter = iter(trainloader)\n",
    "images, labels = next(dataiter)\n",
    "print(type(images))\n",
    "print(images.shape)\n",
    "print(labels.shape)"
   ]
  },
  {
   "cell_type": "markdown",
   "metadata": {},
   "source": [
    "This is what one of the images looks like. "
   ]
  },
  {
   "cell_type": "code",
   "execution_count": 23,
   "metadata": {},
   "outputs": [
    {
     "data": {
      "image/png": "[encoded data removed]",
      "text/plain": [
       "<Figure size 640x480 with 1 Axes>"
      ]
     },
     "metadata": {
      "image/png": {
       "height": 413,
       "width": 416
      }
     },
     "output_type": "display_data"
    }
   ],
   "source": [
    "plt.imshow(images[1].numpy().squeeze(), cmap='Greys_r');"
   ]
  },
  {
   "cell_type": "markdown",
   "metadata": {},
   "source": [
    "First, let's try to build a simple network for this dataset using weight matrices and matrix multiplications. Then, we'll see how to do it using PyTorch's `nn` module which provides a much more convenient and powerful method for defining network architectures.\n",
    "\n",
    "The networks you've seen so far are called *fully-connected* or *dense* networks. Each unit in one layer is connected to each unit in the next layer. In fully-connected networks, the input to each layer must be a one-dimensional vector (which can be stacked into a 2D tensor as a batch of multiple examples). However, our images are 28x28 2D tensors, so we need to convert them into 1D vectors. Thinking about sizes, we need to convert the batch of images with shape `(64, 1, 28, 28)` to a have a shape of `(64, 784)`, 784 is 28 times 28. This is typically called *flattening*, we flattened the 2D images into 1D vectors.\n",
    "\n",
    "Previously you built a network with one output unit. Here we need 10 output units, one for each digit. We want our network to predict the digit shown in an image, so what we'll do is calculate probabilities that the image is of any one digit or class. This ends up being a discrete probability distribution over the classes (digits) that tells us the most likely class for the image. That means we need 10 output units for the 10 classes (digits). We'll see how to convert the network output into a probability distribution next.\n",
    "\n",
    "> **Exercise:** Flatten the batch of images `images`. Then build a multi-layer network with 784 input units, 256 hidden units, and 10 output units using random tensors for the weights and biases. For now, use a sigmoid activation for the hidden layer. Leave the output layer without an activation, we'll add one that gives us a probability distribution next."
   ]
  },
  {
   "cell_type": "code",
   "execution_count": 26,
   "metadata": {},
   "outputs": [
    {
     "name": "stdout",
     "output_type": "stream",
     "text": [
      "tensor([[1.0000e+00, 5.3390e-02, 1.4042e-01, 6.8584e-03, 1.1367e-01, 1.0000e+00,\n",
      "         6.0494e-01, 9.9998e-01, 1.0508e-02, 1.0000e+00],\n",
      "        [1.0000e+00, 4.8789e-01, 9.9992e-01, 2.6501e-02, 2.5494e-01, 9.9576e-01,\n",
      "         2.6072e-01, 9.5849e-01, 8.5902e-01, 3.4038e-02],\n",
      "        [1.0000e+00, 9.9998e-01, 8.8378e-01, 2.5751e-01, 2.8559e-02, 3.3337e-01,\n",
      "         9.4502e-01, 9.8408e-01, 7.1237e-02, 7.7302e-01],\n",
      "        [9.9998e-01, 9.9991e-01, 9.9997e-01, 9.9578e-01, 5.0013e-01, 9.9980e-01,\n",
      "         2.0359e-06, 9.9999e-01, 9.2842e-01, 3.2992e-01],\n",
      "        [9.9996e-01, 9.8064e-01, 1.9122e-02, 9.7360e-01, 2.0161e-02, 9.2668e-01,\n",
      "         1.2241e-07, 9.9996e-01, 9.1709e-01, 5.3083e-03],\n",
      "        [1.0000e+00, 9.9022e-01, 9.9415e-01, 1.8189e-02, 5.9569e-01, 9.9996e-01,\n",
      "         9.5531e-01, 9.9980e-01, 7.0904e-02, 9.9970e-01],\n",
      "        [1.0000e+00, 9.7812e-01, 9.9877e-01, 9.9886e-01, 6.9298e-01, 1.3524e-02,\n",
      "         2.1493e-03, 9.9998e-01, 9.9652e-01, 1.0198e-01],\n",
      "        [1.0000e+00, 9.9727e-01, 9.9993e-01, 8.2870e-03, 1.4733e-01, 9.8476e-01,\n",
      "         2.8268e-04, 9.9852e-01, 1.0354e-01, 9.9351e-01],\n",
      "        [9.9900e-01, 7.2731e-01, 9.9997e-01, 4.1562e-05, 3.9427e-02, 9.9997e-01,\n",
      "         3.4111e-04, 9.9764e-01, 2.8035e-02, 9.7633e-01],\n",
      "        [9.9670e-01, 9.9999e-01, 9.5832e-01, 1.6731e-05, 6.8776e-01, 9.9940e-01,\n",
      "         9.8219e-10, 2.6079e-01, 9.8465e-01, 5.9698e-01],\n",
      "        [1.0000e+00, 9.9896e-01, 1.0391e-04, 9.9996e-01, 1.1134e-03, 1.0000e+00,\n",
      "         1.4445e-03, 9.9654e-01, 5.5610e-01, 9.7456e-01],\n",
      "        [1.0000e+00, 1.2675e-02, 9.6276e-01, 1.6997e-03, 3.7913e-04, 9.9982e-01,\n",
      "         1.6855e-01, 9.9997e-01, 9.9979e-01, 9.9639e-01],\n",
      "        [1.0000e+00, 9.9908e-01, 9.4105e-01, 1.0218e-03, 1.6693e-03, 9.9886e-01,\n",
      "         6.8292e-01, 1.0000e+00, 7.0584e-01, 6.6527e-01],\n",
      "        [1.0000e+00, 9.9979e-01, 9.9875e-01, 1.5948e-07, 7.2215e-04, 1.0000e+00,\n",
      "         1.9262e-01, 1.0000e+00, 9.8787e-01, 9.1420e-01],\n",
      "        [9.9996e-01, 9.9981e-01, 9.9254e-01, 5.1151e-03, 9.7241e-05, 9.9987e-01,\n",
      "         9.3341e-06, 1.1447e-01, 8.0359e-01, 9.9953e-01],\n",
      "        [1.0000e+00, 9.8588e-01, 9.7001e-01, 1.1952e-02, 1.9814e-02, 8.2144e-01,\n",
      "         4.5418e-02, 9.9993e-01, 8.5671e-01, 9.9832e-01],\n",
      "        [1.0000e+00, 9.9982e-01, 9.9995e-01, 5.1746e-04, 4.3275e-01, 9.9999e-01,\n",
      "         9.1757e-01, 9.9987e-01, 4.9746e-02, 5.0392e-01],\n",
      "        [9.9999e-01, 8.1365e-01, 9.8324e-01, 9.9931e-01, 9.9773e-01, 9.9976e-01,\n",
      "         1.6230e-02, 2.9811e-01, 1.4588e-01, 9.9068e-01],\n",
      "        [1.0000e+00, 9.8810e-01, 1.6741e-01, 9.9901e-01, 4.2606e-04, 9.9458e-01,\n",
      "         6.8285e-06, 9.9685e-01, 6.0113e-01, 2.0306e-01],\n",
      "        [1.0000e+00, 9.9972e-01, 9.9859e-01, 9.9983e-01, 1.2002e-05, 1.2508e-02,\n",
      "         9.9796e-01, 9.9989e-01, 5.7471e-04, 9.9935e-01],\n",
      "        [1.0000e+00, 9.9998e-01, 7.6400e-04, 9.9967e-01, 7.0846e-03, 9.9403e-01,\n",
      "         8.4289e-04, 5.4902e-02, 9.8318e-01, 9.9986e-01],\n",
      "        [1.0000e+00, 1.0000e+00, 2.0736e-02, 4.0569e-03, 6.4748e-04, 9.9999e-01,\n",
      "         6.9790e-02, 9.9395e-01, 1.0162e-03, 9.9245e-01],\n",
      "        [1.0000e+00, 6.0417e-01, 9.9232e-01, 7.2082e-01, 7.7589e-01, 1.0000e+00,\n",
      "         1.1786e-01, 1.0000e+00, 9.9404e-01, 6.0656e-01],\n",
      "        [1.0000e+00, 9.9971e-01, 7.6246e-01, 9.4493e-01, 1.2561e-02, 9.9669e-01,\n",
      "         9.9998e-01, 9.9998e-01, 9.9985e-01, 5.0159e-01],\n",
      "        [1.0000e+00, 1.8440e-02, 9.9976e-01, 9.9999e-01, 3.1494e-03, 9.9685e-01,\n",
      "         1.3866e-05, 9.9949e-01, 8.1175e-01, 9.8067e-01],\n",
      "        [1.0000e+00, 9.9670e-01, 2.0931e-01, 2.7168e-06, 1.5906e-02, 9.9331e-01,\n",
      "         2.6169e-03, 9.9998e-01, 9.1747e-01, 9.9633e-01],\n",
      "        [1.0000e+00, 9.9875e-01, 6.7506e-02, 9.4273e-01, 2.0418e-02, 9.9962e-01,\n",
      "         8.3790e-02, 9.9977e-01, 9.9838e-01, 8.2744e-01],\n",
      "        [1.0000e+00, 9.9956e-01, 6.2534e-01, 9.9582e-01, 3.5764e-02, 1.0000e+00,\n",
      "         1.6810e-01, 1.0000e+00, 4.6372e-02, 9.9999e-01],\n",
      "        [1.0000e+00, 6.5568e-01, 9.9969e-01, 3.7160e-01, 1.2955e-04, 9.9403e-01,\n",
      "         9.9644e-01, 9.9992e-01, 9.1827e-01, 9.6976e-01],\n",
      "        [1.0000e+00, 9.8051e-01, 9.9992e-01, 6.3597e-01, 2.1393e-04, 9.9977e-01,\n",
      "         9.9434e-01, 8.2226e-01, 1.0144e-02, 7.9964e-02],\n",
      "        [1.0000e+00, 9.7747e-01, 9.6552e-01, 8.6600e-01, 8.5095e-04, 9.9996e-01,\n",
      "         9.8336e-01, 8.7278e-01, 9.7974e-01, 9.2040e-01],\n",
      "        [1.0000e+00, 5.6093e-01, 1.1646e-01, 9.1731e-01, 3.3948e-02, 9.9996e-01,\n",
      "         9.5770e-01, 9.9824e-01, 8.1987e-01, 9.7757e-01],\n",
      "        [1.0000e+00, 9.9990e-01, 2.3246e-02, 8.8003e-01, 7.6438e-03, 9.9886e-01,\n",
      "         9.0513e-01, 9.4308e-01, 9.9654e-01, 9.9191e-01],\n",
      "        [9.9895e-01, 9.9999e-01, 1.4062e-01, 5.1003e-02, 1.4782e-03, 9.9993e-01,\n",
      "         7.5262e-01, 2.4895e-02, 9.1578e-01, 9.9999e-01],\n",
      "        [1.0000e+00, 1.8167e-02, 6.4725e-01, 9.9996e-01, 2.4639e-05, 6.4750e-01,\n",
      "         2.4262e-05, 9.6804e-01, 5.5461e-03, 9.9767e-01],\n",
      "        [1.0000e+00, 9.8854e-01, 8.7065e-01, 9.9741e-01, 2.3339e-07, 8.1160e-02,\n",
      "         1.1745e-05, 9.0395e-01, 2.0250e-01, 9.9861e-01],\n",
      "        [1.0000e+00, 9.4019e-01, 4.4736e-01, 5.7441e-01, 1.8549e-09, 3.7715e-01,\n",
      "         3.0231e-04, 9.9970e-01, 9.9056e-01, 9.9371e-01],\n",
      "        [1.0000e+00, 9.9467e-01, 2.5561e-01, 3.5198e-02, 8.9239e-01, 1.9325e-02,\n",
      "         2.0157e-02, 9.9634e-01, 4.9980e-01, 9.9858e-01],\n",
      "        [1.0000e+00, 9.9931e-01, 9.9605e-01, 1.2167e-02, 2.6956e-03, 1.0000e+00,\n",
      "         6.2277e-01, 8.8585e-01, 3.5131e-03, 9.9953e-01],\n",
      "        [1.0000e+00, 9.9726e-01, 1.2804e-01, 1.3162e-02, 1.3387e-03, 9.9812e-01,\n",
      "         9.9606e-01, 9.0275e-01, 2.9847e-01, 9.9980e-01],\n",
      "        [1.0000e+00, 9.9548e-01, 3.5963e-01, 9.9677e-01, 2.9739e-03, 9.6842e-01,\n",
      "         1.0000e+00, 1.0000e+00, 3.9970e-03, 5.7826e-01],\n",
      "        [9.9997e-01, 1.0000e+00, 9.9587e-01, 9.9941e-01, 1.5828e-03, 2.4676e-01,\n",
      "         9.9720e-01, 2.5575e-01, 2.0234e-01, 9.9991e-01],\n",
      "        [1.0000e+00, 9.9999e-01, 1.1618e-01, 2.8793e-01, 2.3299e-01, 9.5685e-04,\n",
      "         7.1496e-02, 9.9465e-01, 3.5166e-02, 9.9430e-01],\n",
      "        [1.0000e+00, 1.5793e-01, 4.7569e-01, 9.8740e-01, 7.1377e-03, 9.8665e-01,\n",
      "         2.5800e-01, 9.9990e-01, 9.9986e-01, 9.9997e-01],\n",
      "        [1.0000e+00, 9.8629e-01, 9.9970e-01, 7.2071e-01, 6.2493e-05, 9.9927e-01,\n",
      "         3.6341e-01, 9.7916e-01, 7.2950e-01, 9.9996e-01],\n",
      "        [1.0000e+00, 9.9994e-01, 9.3449e-01, 3.9350e-01, 1.0619e-04, 9.9562e-01,\n",
      "         3.0549e-01, 9.9825e-01, 1.1148e-01, 9.6936e-01],\n",
      "        [1.0000e+00, 1.7946e-01, 8.8809e-01, 1.2796e-02, 4.4189e-05, 9.9978e-01,\n",
      "         4.9553e-01, 8.3277e-01, 9.9985e-01, 9.4811e-01],\n",
      "        [1.0000e+00, 9.9761e-01, 1.6621e-01, 1.0704e-04, 3.3955e-01, 9.9986e-01,\n",
      "         7.7169e-01, 9.9999e-01, 9.6168e-01, 9.8606e-01],\n",
      "        [9.9994e-01, 9.9455e-01, 9.9878e-01, 1.2744e-03, 1.4092e-02, 9.3610e-01,\n",
      "         3.9141e-01, 9.9761e-01, 1.1484e-02, 9.9886e-01],\n",
      "        [1.0000e+00, 1.0000e+00, 9.9484e-01, 6.4539e-01, 3.0482e-02, 6.9787e-04,\n",
      "         8.9717e-04, 9.9961e-01, 7.7732e-01, 9.8106e-01],\n",
      "        [1.0000e+00, 9.9160e-01, 9.9945e-01, 9.9742e-01, 3.0425e-01, 9.9206e-01,\n",
      "         1.9594e-07, 1.0000e+00, 5.2321e-01, 6.0959e-02],\n",
      "        [1.0000e+00, 3.8613e-01, 9.9745e-01, 1.8636e-02, 1.1367e-05, 9.6348e-01,\n",
      "         2.1346e-02, 9.5078e-01, 9.7881e-01, 9.9603e-01],\n",
      "        [1.0000e+00, 2.9323e-01, 9.9999e-01, 2.7972e-02, 6.7110e-05, 9.4580e-01,\n",
      "         1.0240e-02, 9.8467e-01, 1.8530e-01, 9.8426e-01],\n",
      "        [1.0000e+00, 1.0000e+00, 1.3041e-01, 7.1228e-01, 1.8462e-04, 9.9859e-01,\n",
      "         1.6755e-02, 9.9988e-01, 8.5477e-01, 9.9953e-01],\n",
      "        [1.0000e+00, 3.4830e-02, 9.8146e-01, 9.7913e-01, 2.2239e-03, 3.3124e-02,\n",
      "         4.3907e-03, 8.9260e-01, 7.5288e-01, 9.9936e-01],\n",
      "        [1.0000e+00, 9.3278e-01, 9.9099e-01, 5.8617e-02, 1.2975e-02, 9.9948e-01,\n",
      "         9.8840e-01, 9.9986e-01, 2.8443e-01, 8.4857e-01],\n",
      "        [1.0000e+00, 9.8947e-01, 9.9989e-01, 9.8621e-01, 2.9773e-03, 9.9194e-03,\n",
      "         4.8011e-07, 3.8575e-01, 8.9662e-01, 9.9824e-01],\n",
      "        [1.0000e+00, 9.9968e-01, 4.4730e-01, 9.8506e-01, 5.4378e-02, 9.9992e-01,\n",
      "         1.1074e-01, 9.7669e-01, 1.2881e-02, 9.7782e-01],\n",
      "        [1.0000e+00, 9.9984e-01, 9.9891e-01, 7.5965e-03, 5.8147e-01, 9.8317e-01,\n",
      "         9.4931e-04, 1.4756e-01, 2.4520e-01, 1.7582e-02],\n",
      "        [1.0000e+00, 9.9522e-01, 2.2896e-01, 1.5693e-02, 2.0054e-01, 9.9977e-01,\n",
      "         9.9452e-01, 9.9997e-01, 4.0169e-02, 4.3654e-01],\n",
      "        [9.9972e-01, 1.0000e+00, 9.9492e-01, 9.0793e-01, 1.3250e-02, 2.9378e-01,\n",
      "         1.9883e-03, 7.6895e-01, 2.7272e-02, 8.9683e-01],\n",
      "        [1.0000e+00, 9.9991e-01, 2.1002e-02, 6.3469e-04, 2.3505e-05, 9.8300e-01,\n",
      "         9.9975e-01, 9.9883e-01, 8.1161e-01, 9.9356e-01],\n",
      "        [1.0000e+00, 9.0521e-01, 5.9449e-01, 9.9984e-01, 1.6972e-02, 9.9998e-01,\n",
      "         4.3354e-03, 9.9998e-01, 9.7202e-01, 8.2811e-01],\n",
      "        [1.0000e+00, 1.0000e+00, 8.5430e-01, 1.4870e-03, 9.5053e-01, 9.9999e-01,\n",
      "         5.4075e-01, 9.9990e-01, 1.4182e-01, 1.4980e-01]])\n"
     ]
    }
   ],
   "source": [
    "## Solution\n",
    "def activation(x):\n",
    "    return 1/(1+torch.exp(-x))\n",
    "\n",
    "# Flatten the input images\n",
    "inputs = images.view(images.shape[0], -1)\n",
    "\n",
    "# Create parameters\n",
    "w1 = torch.randn(784, 256)\n",
    "b1 = torch.randn(256)\n",
    "\n",
    "w2 = torch.randn(256, 10)\n",
    "b2 = torch.randn(10)\n",
    "\n",
    "h = activation(torch.mm(inputs, w1) + b1)\n",
    "\n",
    "out = activation(torch.mm(h, w2) + b2)\n",
    "print(out)"
   ]
  },
  {
   "cell_type": "markdown",
   "metadata": {},
   "source": [
    "Now we have 10 outputs for our network. We want to pass in an image to our network and get out a probability distribution over the classes that tells us the likely class(es) the image belongs to. Something that looks like this:\n",
    "<img src='assets/image_distribution.png' width=500px>\n",
    "\n",
    "Here we see that the probability for each class is roughly the same. This is representing an untrained network, it hasn't seen any data yet so it just returns a uniform distribution with equal probabilities for each class.\n",
    "\n",
    "To calculate this probability distribution, we often use the [**softmax** function](https://en.wikipedia.org/wiki/Softmax_function). Mathematically this looks like\n",
    "\n",
    "$$\n",
    "\\Large \\sigma(x_i) = \\cfrac{e^{x_i}}{\\sum_k^K{e^{x_k}}}\n",
    "$$\n",
    "\n",
    "What this does is squish each input $x_i$ between 0 and 1 and normalizes the values to give you a proper probability distribution where the probabilites sum up to one.\n",
    "\n",
    "> **Exercise:** Implement a function `softmax` that performs the softmax calculation and returns probability distributions for each example in the batch. Note that you'll need to pay attention to the shapes when doing this. If you have a tensor `a` with shape `(64, 10)` and a tensor `b` with shape `(64,)`, doing `a/b` will give you an error because PyTorch will try to do the division across the columns (called broadcasting) but you'll get a size mismatch. The way to think about this is for each of the 64 examples, you only want to divide by one value, the sum in the denominator. So you need `b` to have a shape of `(64, 1)`. This way PyTorch will divide the 10 values in each row of `a` by the one value in each row of `b`. Pay attention to how you take the sum as well. You'll need to define the `dim` keyword in `torch.sum`. Setting `dim=0` takes the sum across the rows while `dim=1` takes the sum across the columns."
   ]
  },
  {
   "cell_type": "code",
   "execution_count": 29,
   "metadata": {},
   "outputs": [
    {
     "name": "stdout",
     "output_type": "stream",
     "text": [
      "torch.Size([64, 10])\n",
      "tensor([1.0000, 1.0000, 1.0000, 1.0000, 1.0000, 1.0000, 1.0000, 1.0000, 1.0000,\n",
      "        1.0000, 1.0000, 1.0000, 1.0000, 1.0000, 1.0000, 1.0000, 1.0000, 1.0000,\n",
      "        1.0000, 1.0000, 1.0000, 1.0000, 1.0000, 1.0000, 1.0000, 1.0000, 1.0000,\n",
      "        1.0000, 1.0000, 1.0000, 1.0000, 1.0000, 1.0000, 1.0000, 1.0000, 1.0000,\n",
      "        1.0000, 1.0000, 1.0000, 1.0000, 1.0000, 1.0000, 1.0000, 1.0000, 1.0000,\n",
      "        1.0000, 1.0000, 1.0000, 1.0000, 1.0000, 1.0000, 1.0000, 1.0000, 1.0000,\n",
      "        1.0000, 1.0000, 1.0000, 1.0000, 1.0000, 1.0000, 1.0000, 1.0000, 1.0000,\n",
      "        1.0000])\n"
     ]
    }
   ],
   "source": [
    "## Solution\n",
    "def softmax(x):\n",
    "    return torch.exp(x)/torch.sum(torch.exp(x), dim=1).view(-1, 1)\n",
    "\n",
    "probabilities = softmax(out)\n",
    "\n",
    "# Does it have the right shape? Should be (64, 10)\n",
    "print(probabilities.shape)\n",
    "# Does it sum to 1?\n",
    "print(probabilities.sum(dim=1))"
   ]
  },
  {
   "cell_type": "markdown",
   "metadata": {},
   "source": [
    "## Building networks with PyTorch\n",
    "\n",
    "PyTorch provides a module `nn` that makes building networks much simpler. Here I'll show you how to build the same one as above with 784 inputs, 256 hidden units, 10 output units and a softmax output."
   ]
  },
  {
   "cell_type": "code",
   "execution_count": 30,
   "metadata": {},
   "outputs": [],
   "source": [
    "from torch import nn"
   ]
  },
  {
   "cell_type": "code",
   "execution_count": 31,
   "metadata": {},
   "outputs": [],
   "source": [
    "class Network(nn.Module):\n",
    "    def __init__(self):\n",
    "        super().__init__()\n",
    "        \n",
    "        # Inputs to hidden layer linear transformation\n",
    "        self.hidden = nn.Linear(784, 256)\n",
    "        # Output layer, 10 units - one for each digit\n",
    "        self.output = nn.Linear(256, 10)\n",
    "        \n",
    "        # Define sigmoid activation and softmax output \n",
    "        self.sigmoid = nn.Sigmoid()\n",
    "        self.softmax = nn.Softmax(dim=1)\n",
    "        \n",
    "    def forward(self, x):\n",
    "        # Pass the input tensor through each of our operations\n",
    "        x = self.hidden(x)\n",
    "        x = self.sigmoid(x)\n",
    "        x = self.output(x)\n",
    "        x = self.softmax(x)\n",
    "        \n",
    "        return x"
   ]
  },
  {
   "cell_type": "markdown",
   "metadata": {},
   "source": [
    "Let's go through this bit by bit.\n",
    "\n",
    "```python\n",
    "class Network(nn.Module):\n",
    "```\n",
    "\n",
    "Here we're inheriting from `nn.Module`. Combined with `super().__init__()` this creates a class that tracks the architecture and provides a lot of useful methods and attributes. It is mandatory to inherit from `nn.Module` when you're creating a class for your network. The name of the class itself can be anything.\n",
    "\n",
    "```python\n",
    "self.hidden = nn.Linear(784, 256)\n",
    "```\n",
    "\n",
    "This line creates a module for a linear transformation, $x\\mathbf{W} + b$, with 784 inputs and 256 outputs and assigns it to `self.hidden`. The module automatically creates the weight and bias tensors which we'll use in the `forward` method. You can access the weight and bias tensors once the network (`net`) is created with `net.hidden.weight` and `net.hidden.bias`.\n",
    "\n",
    "```python\n",
    "self.output = nn.Linear(256, 10)\n",
    "```\n",
    "\n",
    "Similarly, this creates another linear transformation with 256 inputs and 10 outputs.\n",
    "\n",
    "```python\n",
    "self.sigmoid = nn.Sigmoid()\n",
    "self.softmax = nn.Softmax(dim=1)\n",
    "```\n",
    "\n",
    "Here I defined operations for the sigmoid activation and softmax output. Setting `dim=1` in `nn.Softmax(dim=1)` calculates softmax across the columns.\n",
    "\n",
    "```python\n",
    "def forward(self, x):\n",
    "```\n",
    "\n",
    "PyTorch networks created with `nn.Module` must have a `forward` method defined. It takes in a tensor `x` and passes it through the operations you defined in the `__init__` method.\n",
    "\n",
    "```python\n",
    "x = self.hidden(x)\n",
    "x = self.sigmoid(x)\n",
    "x = self.output(x)\n",
    "x = self.softmax(x)\n",
    "```\n",
    "\n",
    "Here the input tensor `x` is passed through each operation a reassigned to `x`. We can see that the input tensor goes through the hidden layer, then a sigmoid function, then the output layer, and finally the softmax function. It doesn't matter what you name the variables here, as long as the inputs and outputs of the operations match the network architecture you want to build. The order in which you define things in the `__init__` method doesn't matter, but you'll need to sequence the operations correctly in the `forward` method.\n",
    "\n",
    "Now we can create a `Network` object."
   ]
  },
  {
   "cell_type": "code",
   "execution_count": 32,
   "metadata": {},
   "outputs": [
    {
     "data": {
      "text/plain": [
       "Network(\n",
       "  (hidden): Linear(in_features=784, out_features=256, bias=True)\n",
       "  (output): Linear(in_features=256, out_features=10, bias=True)\n",
       "  (sigmoid): Sigmoid()\n",
       "  (softmax): Softmax(dim=1)\n",
       ")"
      ]
     },
     "execution_count": 32,
     "metadata": {},
     "output_type": "execute_result"
    }
   ],
   "source": [
    "# Create the network and look at its text representation\n",
    "model = Network()\n",
    "model"
   ]
  },
  {
   "cell_type": "markdown",
   "metadata": {},
   "source": [
    "You can define the network somewhat more concisely and clearly using the `torch.nn.functional` module. This is the most common way you'll see networks defined as many operations are simple element-wise functions. We normally import this module as `F`, `import torch.nn.functional as F`."
   ]
  },
  {
   "cell_type": "code",
   "execution_count": 33,
   "metadata": {},
   "outputs": [],
   "source": [
    "import torch.nn.functional as F\n",
    "\n",
    "class Network(nn.Module):\n",
    "    def __init__(self):\n",
    "        super().__init__()\n",
    "        # Inputs to hidden layer linear transformation\n",
    "        self.hidden = nn.Linear(784, 256)\n",
    "        # Output layer, 10 units - one for each digit\n",
    "        self.output = nn.Linear(256, 10)\n",
    "        \n",
    "    def forward(self, x):\n",
    "        # Hidden layer with sigmoid activation\n",
    "        x = F.sigmoid(self.hidden(x))\n",
    "        # Output layer with softmax activation\n",
    "        x = F.softmax(self.output(x), dim=1)\n",
    "        \n",
    "        return x"
   ]
  },
  {
   "cell_type": "markdown",
   "metadata": {},
   "source": [
    "### Activation functions\n",
    "\n",
    "So far we've only been looking at the sigmoid and softmax activation functions, but in general any function can be used as an activation function. The only requirement is that for a network to approximate a non-linear function, the activation functions must be non-linear. Here are a few more examples of common activation functions: Tanh (hyperbolic tangent), and ReLU (rectified linear unit).\n",
    "\n",
    "<img src=\"assets/activation.png\" width=700px>\n",
    "\n",
    "In practice, the ReLU function is used almost exclusively as the activation function for hidden layers."
   ]
  },
  {
   "cell_type": "markdown",
   "metadata": {},
   "source": [
    "### Your Turn to Build a Network\n",
    "\n",
    "<img src=\"assets/mlp_mnist.png\" width=600px>\n",
    "\n",
    "> **Exercise:** Create a network with 784 input units, a hidden layer with 128 units and a ReLU activation, then a hidden layer with 64 units and a ReLU activation, and finally an output layer with a softmax activation as shown above. You can use a ReLU activation with the `nn.ReLU` module or `F.relu` function.\n",
    "\n",
    "It's good practice to name your layers by their type of network, for instance 'fc' to represent a fully-connected layer. As you code your solution, use `fc1`, `fc2`, and `fc3` as your layer names."
   ]
  },
  {
   "cell_type": "code",
   "execution_count": 11,
   "metadata": {
    "scrolled": true
   },
   "outputs": [
    {
     "data": {
      "text/plain": [
       "Network(\n",
       "  (fc1): Linear(in_features=784, out_features=128, bias=True)\n",
       "  (fc2): Linear(in_features=128, out_features=64, bias=True)\n",
       "  (fc3): Linear(in_features=64, out_features=10, bias=True)\n",
       ")"
      ]
     },
     "execution_count": 11,
     "metadata": {},
     "output_type": "execute_result"
    }
   ],
   "source": [
    "## Solution\n",
    "\n",
    "class Network(nn.Module):\n",
    "    def __init__(self):\n",
    "        super().__init__()\n",
    "        # Defining the layers, 128, 64, 10 units each\n",
    "        self.fc1 = nn.Linear(784, 128)\n",
    "        self.fc2 = nn.Linear(128, 64)\n",
    "        # Output layer, 10 units - one for each digit\n",
    "        self.fc3 = nn.Linear(64, 10)\n",
    "        \n",
    "    def forward(self, x):\n",
    "        ''' Forward pass through the network, returns the output logits '''\n",
    "        \n",
    "        x = self.fc1(x)\n",
    "        x = F.relu(x)\n",
    "        x = self.fc2(x)\n",
    "        x = F.relu(x)\n",
    "        x = self.fc3(x)\n",
    "        x = F.softmax(x, dim=1)\n",
    "        \n",
    "        return x\n",
    "\n",
    "model = Network()\n",
    "model"
   ]
  },
  {
   "cell_type": "markdown",
   "metadata": {},
   "source": [
    "### Initializing weights and biases\n",
    "\n",
    "The weights and biases are automatically initialized for you, but it's possible to customize how they are initialized. The weights and biases are tensors attached to the layer you defined, you can get them with `model.fc1.weight` for instance."
   ]
  },
  {
   "cell_type": "code",
   "execution_count": 12,
   "metadata": {},
   "outputs": [
    {
     "name": "stdout",
     "output_type": "stream",
     "text": [
      "Parameter containing:\n",
      "tensor([[-2.3278e-02, -1.2170e-03, -1.1882e-02,  ...,  3.3567e-02,\n",
      "          4.4827e-03,  1.4840e-02],\n",
      "        [ 4.8464e-03,  1.9844e-02,  3.9791e-03,  ..., -2.6048e-02,\n",
      "         -3.5558e-02, -2.2386e-02],\n",
      "        [-1.9664e-02,  8.1722e-03,  2.6729e-02,  ..., -1.5122e-02,\n",
      "          2.7632e-02, -1.9567e-02],\n",
      "        ...,\n",
      "        [-3.3571e-02, -2.9686e-02, -2.1387e-02,  ...,  3.0770e-02,\n",
      "          1.0800e-02, -6.5941e-03],\n",
      "        [ 2.9749e-02,  1.2849e-02,  2.7320e-02,  ..., -1.9899e-02,\n",
      "          2.7131e-02,  2.2082e-02],\n",
      "        [ 1.3992e-02, -2.1520e-02,  3.1907e-02,  ...,  2.2435e-02,\n",
      "          1.1370e-02,  2.1568e-02]])\n",
      "Parameter containing:\n",
      "tensor(1.00000e-02 *\n",
      "       [-1.3222,  2.4094, -2.1571,  3.2237,  2.5302, -1.1515,  2.6382,\n",
      "        -2.3426, -3.5689, -1.0724, -2.8842, -2.9667, -0.5022,  1.1381,\n",
      "         1.2849,  3.0731, -2.0207, -2.3282,  0.3168, -2.8098, -1.0740,\n",
      "        -1.8273,  1.8692,  2.9404,  0.1783,  0.9391, -0.7085, -1.2522,\n",
      "        -2.7769,  0.0916, -1.4283, -0.3267, -1.6876, -1.8580, -2.8724,\n",
      "        -3.5512,  3.2155,  1.5532,  0.8836, -1.2911,  1.5735, -3.0478,\n",
      "        -1.3089, -2.2117,  1.5162, -0.8055, -1.3307, -2.4267, -1.2665,\n",
      "         0.8666, -2.2325, -0.4797, -0.5448, -0.6612, -0.6022,  2.6399,\n",
      "         1.4673, -1.5417, -2.9492, -2.7507,  0.6157, -0.0681, -0.8171,\n",
      "        -0.3554, -0.8225,  3.3906,  3.3509, -1.4484,  3.5124, -2.6519,\n",
      "         0.9721, -2.5068, -3.4962,  3.4743,  1.1525, -2.7555, -3.1673,\n",
      "         2.2906,  2.5914,  1.5992, -1.2859, -0.5682,  2.1488, -2.0631,\n",
      "         2.6281, -2.4639,  2.2622,  2.3632, -0.1979,  0.7160,  1.7594,\n",
      "         0.0761, -2.8886, -3.5467,  2.7691,  0.8280, -2.2398, -1.4602,\n",
      "        -1.3475, -1.4738,  0.6338,  3.2811, -3.0628,  2.7044,  1.2775,\n",
      "         2.8856, -3.3938,  2.7056,  0.5826, -0.6286,  1.2381,  0.7316,\n",
      "        -2.4725, -1.2958, -3.1543, -0.8584,  0.5517,  2.8176,  0.0947,\n",
      "        -1.6849, -1.4968,  3.1039,  1.7680,  1.1803, -1.4402,  2.5710,\n",
      "        -3.3057,  1.9027])\n"
     ]
    }
   ],
   "source": [
    "print(model.fc1.weight)\n",
    "print(model.fc1.bias)"
   ]
  },
  {
   "cell_type": "markdown",
   "metadata": {},
   "source": [
    "For custom initialization, we want to modify these tensors in place. These are actually autograd *Variables*, so we need to get back the actual tensors with `model.fc1.weight.data`. Once we have the tensors, we can fill them with zeros (for biases) or random normal values."
   ]
  },
  {
   "cell_type": "code",
   "execution_count": 13,
   "metadata": {},
   "outputs": [
    {
     "data": {
      "text/plain": [
       "tensor([ 0.,  0.,  0.,  0.,  0.,  0.,  0.,  0.,  0.,  0.,  0.,  0.,\n",
       "         0.,  0.,  0.,  0.,  0.,  0.,  0.,  0.,  0.,  0.,  0.,  0.,\n",
       "         0.,  0.,  0.,  0.,  0.,  0.,  0.,  0.,  0.,  0.,  0.,  0.,\n",
       "         0.,  0.,  0.,  0.,  0.,  0.,  0.,  0.,  0.,  0.,  0.,  0.,\n",
       "         0.,  0.,  0.,  0.,  0.,  0.,  0.,  0.,  0.,  0.,  0.,  0.,\n",
       "         0.,  0.,  0.,  0.,  0.,  0.,  0.,  0.,  0.,  0.,  0.,  0.,\n",
       "         0.,  0.,  0.,  0.,  0.,  0.,  0.,  0.,  0.,  0.,  0.,  0.,\n",
       "         0.,  0.,  0.,  0.,  0.,  0.,  0.,  0.,  0.,  0.,  0.,  0.,\n",
       "         0.,  0.,  0.,  0.,  0.,  0.,  0.,  0.,  0.,  0.,  0.,  0.,\n",
       "         0.,  0.,  0.,  0.,  0.,  0.,  0.,  0.,  0.,  0.,  0.,  0.,\n",
       "         0.,  0.,  0.,  0.,  0.,  0.,  0.,  0.])"
      ]
     },
     "execution_count": 13,
     "metadata": {},
     "output_type": "execute_result"
    }
   ],
   "source": [
    "# Set biases to all zeros\n",
    "model.fc1.bias.data.fill_(0)"
   ]
  },
  {
   "cell_type": "code",
   "execution_count": 14,
   "metadata": {},
   "outputs": [
    {
     "data": {
      "text/plain": [
       "tensor([[ 5.9294e-03,  9.6176e-04,  9.5034e-03,  ..., -1.2588e-03,\n",
       "          3.4878e-03,  1.4495e-02],\n",
       "        [-9.3127e-04, -1.0287e-02,  3.5423e-03,  ...,  1.1155e-02,\n",
       "          2.5012e-03,  1.3503e-02],\n",
       "        [-1.5078e-02,  8.1119e-03,  5.0678e-03,  ...,  2.8613e-03,\n",
       "          9.7443e-03, -6.5530e-03],\n",
       "        ...,\n",
       "        [-2.2938e-03, -1.8630e-02, -4.2459e-03,  ...,  1.4718e-02,\n",
       "          2.7655e-03,  3.2661e-03],\n",
       "        [-3.0470e-03,  1.2617e-02, -7.9772e-03,  ..., -1.4699e-02,\n",
       "         -9.1425e-03,  5.3492e-03],\n",
       "        [ 2.5911e-03,  2.4797e-03, -6.1172e-03,  ...,  1.0584e-02,\n",
       "         -1.0307e-02, -3.1901e-03]])"
      ]
     },
     "execution_count": 14,
     "metadata": {},
     "output_type": "execute_result"
    }
   ],
   "source": [
    "# sample from random normal with standard dev = 0.01\n",
    "model.fc1.weight.data.normal_(std=0.01)"
   ]
  },
  {
   "cell_type": "markdown",
   "metadata": {},
   "source": [
    "### Forward pass\n",
    "\n",
    "Now that we have a network, let's see what happens when we pass in an image."
   ]
  },
  {
   "cell_type": "code",
   "execution_count": 15,
   "metadata": {},
   "outputs": [
    {
     "data": {
      "image/png": "[encoded data removed]",
      "text/plain": [
       "<Figure size 432x648 with 2 Axes>"
      ]
     },
     "metadata": {
      "image/png": {
       "height": 226,
       "width": 423
      },
      "needs_background": "light"
     },
     "output_type": "display_data"
    }
   ],
   "source": [
    "# Grab some data \n",
    "dataiter = iter(trainloader)\n",
    "images, labels = dataiter.next()\n",
    "\n",
    "# Resize images into a 1D vector, new shape is (batch size, color channels, image pixels) \n",
    "images.resize_(64, 1, 784)\n",
    "# or images.resize_(images.shape[0], 1, 784) to automatically get batch size\n",
    "\n",
    "# Forward pass through the network\n",
    "img_idx = 0\n",
    "ps = model.forward(images[img_idx,:])\n",
    "\n",
    "img = images[img_idx]\n",
    "helper.view_classify(img.view(1, 28, 28), ps)"
   ]
  },
  {
   "cell_type": "markdown",
   "metadata": {},
   "source": [
    "As you can see above, our network has basically no idea what this digit is. It's because we haven't trained it yet, all the weights are random!\n",
    "\n",
    "### Using `nn.Sequential`\n",
    "\n",
    "PyTorch provides a convenient way to build networks like this where a tensor is passed sequentially through operations, `nn.Sequential` ([documentation](https://pytorch.org/docs/master/nn.html#torch.nn.Sequential)). Using this to build the equivalent network:"
   ]
  },
  {
   "cell_type": "code",
   "execution_count": 16,
   "metadata": {},
   "outputs": [
    {
     "name": "stdout",
     "output_type": "stream",
     "text": [
      "Sequential(\n",
      "  (0): Linear(in_features=784, out_features=128, bias=True)\n",
      "  (1): ReLU()\n",
      "  (2): Linear(in_features=128, out_features=64, bias=True)\n",
      "  (3): ReLU()\n",
      "  (4): Linear(in_features=64, out_features=10, bias=True)\n",
      "  (5): Softmax()\n",
      ")\n"
     ]
    },
    {
     "data": {
      "image/png": "[encoded data removed]",
      "text/plain": [
       "<Figure size 432x648 with 2 Axes>"
      ]
     },
     "metadata": {
      "image/png": {
       "height": 226,
       "width": 423
      },
      "needs_background": "light"
     },
     "output_type": "display_data"
    }
   ],
   "source": [
    "# Hyperparameters for our network\n",
    "input_size = 784\n",
    "hidden_sizes = [128, 64]\n",
    "output_size = 10\n",
    "\n",
    "# Build a feed-forward network\n",
    "model = nn.Sequential(nn.Linear(input_size, hidden_sizes[0]),\n",
    "                      nn.ReLU(),\n",
    "                      nn.Linear(hidden_sizes[0], hidden_sizes[1]),\n",
    "                      nn.ReLU(),\n",
    "                      nn.Linear(hidden_sizes[1], output_size),\n",
    "                      nn.Softmax(dim=1))\n",
    "print(model)\n",
    "\n",
    "# Forward pass through the network and display output\n",
    "images, labels = next(iter(trainloader))\n",
    "images.resize_(images.shape[0], 1, 784)\n",
    "ps = model.forward(images[0,:])\n",
    "helper.view_classify(images[0].view(1, 28, 28), ps)"
   ]
  },
  {
   "cell_type": "markdown",
   "metadata": {},
   "source": [
    "The operations are availble by passing in the appropriate index. For example, if you want to get first Linear operation and look at the weights, you'd use `model[0]`."
   ]
  },
  {
   "cell_type": "code",
   "execution_count": 17,
   "metadata": {},
   "outputs": [
    {
     "name": "stdout",
     "output_type": "stream",
     "text": [
      "Linear(in_features=784, out_features=128, bias=True)\n"
     ]
    },
    {
     "data": {
      "text/plain": [
       "Parameter containing:\n",
       "tensor([[-7.0372e-03,  2.9689e-02,  2.6028e-02,  ...,  1.1196e-02,\n",
       "         -2.1928e-02, -3.4886e-02],\n",
       "        [ 1.0624e-04, -1.6610e-02, -2.2891e-02,  ..., -6.4412e-03,\n",
       "         -2.5026e-02,  1.0674e-02],\n",
       "        [-2.4707e-02,  1.4146e-02,  2.0084e-02,  ...,  1.2227e-02,\n",
       "          2.3441e-02, -9.5175e-03],\n",
       "        ...,\n",
       "        [-2.0119e-02,  7.2614e-03, -1.3481e-02,  ...,  8.1745e-03,\n",
       "         -1.3348e-02, -1.1955e-02],\n",
       "        [ 3.2282e-02,  1.8674e-02, -3.0826e-02,  ...,  1.7296e-02,\n",
       "         -2.6710e-02, -3.0684e-02],\n",
       "        [ 1.7686e-02,  3.1376e-02, -2.2645e-02,  ...,  2.4630e-02,\n",
       "          3.1129e-02,  7.0939e-03]])"
      ]
     },
     "execution_count": 17,
     "metadata": {},
     "output_type": "execute_result"
    }
   ],
   "source": [
    "print(model[0])\n",
    "model[0].weight"
   ]
  },
  {
   "cell_type": "markdown",
   "metadata": {},
   "source": [
    "You can also pass in an `OrderedDict` to name the individual layers and operations, instead of using incremental integers. Note that dictionary keys must be unique, so _each operation must have a different name_."
   ]
  },
  {
   "cell_type": "code",
   "execution_count": 18,
   "metadata": {},
   "outputs": [
    {
     "data": {
      "text/plain": [
       "Sequential(\n",
       "  (fc1): Linear(in_features=784, out_features=128, bias=True)\n",
       "  (relu1): ReLU()\n",
       "  (fc2): Linear(in_features=128, out_features=64, bias=True)\n",
       "  (relu2): ReLU()\n",
       "  (output): Linear(in_features=64, out_features=10, bias=True)\n",
       "  (softmax): Softmax()\n",
       ")"
      ]
     },
     "execution_count": 18,
     "metadata": {},
     "output_type": "execute_result"
    }
   ],
   "source": [
    "from collections import OrderedDict\n",
    "model = nn.Sequential(OrderedDict([\n",
    "                      ('fc1', nn.Linear(input_size, hidden_sizes[0])),\n",
    "                      ('relu1', nn.ReLU()),\n",
    "                      ('fc2', nn.Linear(hidden_sizes[0], hidden_sizes[1])),\n",
    "                      ('relu2', nn.ReLU()),\n",
    "                      ('output', nn.Linear(hidden_sizes[1], output_size)),\n",
    "                      ('softmax', nn.Softmax(dim=1))]))\n",
    "model"
   ]
  },
  {
   "cell_type": "markdown",
   "metadata": {},
   "source": [
    "Now you can access layers either by integer or the name"
   ]
  },
  {
   "cell_type": "code",
   "execution_count": 19,
   "metadata": {},
   "outputs": [
    {
     "name": "stdout",
     "output_type": "stream",
     "text": [
      "Linear(in_features=784, out_features=128, bias=True)\n",
      "Linear(in_features=784, out_features=128, bias=True)\n"
     ]
    }
   ],
   "source": [
    "print(model[0])\n",
    "print(model.fc1)"
   ]
  },
  {
   "cell_type": "markdown",
   "metadata": {},
   "source": [
    "In the next notebook, we'll see how we can train a neural network to accuractly predict the numbers appearing in the MNIST images."
   ]
  }
 ],
 "metadata": {
  "kernelspec": {
   "display_name": "Python 3 (ipykernel)",
   "language": "python",
   "name": "python3"
  },
  "language_info": {
   "codemirror_mode": {
    "name": "ipython",
    "version": 3
   },
   "file_extension": ".py",
   "mimetype": "text/x-python",
   "name": "python",
   "nbconvert_exporter": "python",
   "pygments_lexer": "ipython3",
   "version": "3.11.5"
  }
 },
 "nbformat": 4,
 "nbformat_minor": 4
}
