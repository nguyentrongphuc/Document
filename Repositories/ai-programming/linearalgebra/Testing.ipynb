{
 "cells": [
  {
   "cell_type": "code",
   "execution_count": 32,
   "id": "ea99f685",
   "metadata": {},
   "outputs": [],
   "source": [
    "import math\n",
    "import numpy as np\n",
    "import torch\n",
    "\n",
    "def softmax(L):\n",
    "    exp_L = [math.e ** i for i in L]\n",
    "    sum_exp_L = sum(exp_L)\n",
    "    result = [i / sum_exp_L for i in exp_L]\n",
    "    return result\n",
    "\n",
    "def softmax2(L):\n",
    "    exp_L = np.exp(L)\n",
    "    return list(np.divide(exp_L, exp_L.sum()))\n",
    "    \n",
    "def softmax3(x):\n",
    "    return torch.exp(x)/torch.sum(torch.exp(x), dim=1).view(-1, 1)\n",
    "\n",
    "def activation(x):\n",
    "    return 1/(1+torch.exp(-x))\n",
    "    \n",
    "def cross_entropy(Y, P):\n",
    "    Y = np.float_(Y)\n",
    "    P = np.float_(P)\n",
    "    return -np.sum(Y * np.log(P) + (1 - Y) * np.log(1 - P))"
   ]
  },
  {
   "cell_type": "code",
   "execution_count": 33,
   "id": "8be90463",
   "metadata": {},
   "outputs": [
    {
     "name": "stdout",
     "output_type": "stream",
     "text": [
      "[0.6652409557748219, 0.24472847105479764, 0.09003057317038046]\n"
     ]
    }
   ],
   "source": [
    "print(softmax([2,1,0]))"
   ]
  },
  {
   "cell_type": "code",
   "execution_count": 34,
   "id": "da2000e8",
   "metadata": {},
   "outputs": [
    {
     "name": "stdout",
     "output_type": "stream",
     "text": [
      "[0.6652409557748219, 0.24472847105479764, 0.09003057317038046]\n"
     ]
    }
   ],
   "source": [
    "print(softmax2([2,1,0]))"
   ]
  },
  {
   "cell_type": "code",
   "execution_count": 35,
   "id": "b4232baa",
   "metadata": {},
   "outputs": [
    {
     "name": "stdout",
     "output_type": "stream",
     "text": [
      "0.35667494393873245\n"
     ]
    }
   ],
   "source": [
    "print(cross_entropy(1,0.7))"
   ]
  },
  {
   "cell_type": "code",
   "execution_count": 36,
   "id": "cb910e27",
   "metadata": {},
   "outputs": [
    {
     "name": "stdout",
     "output_type": "stream",
     "text": [
      "tensor([], size=(2, 0, 0), dtype=torch.float64)\n"
     ]
    }
   ],
   "source": [
    "tensor1 = torch.from_numpy(np.ndarray([2,1,0]))\n",
    "\n",
    "\n",
    "print(softmax3(tensor1))\n"
   ]
  },
  {
   "cell_type": "code",
   "execution_count": 69,
   "id": "163b2007-83de-49ef-9794-b7539797fc7d",
   "metadata": {},
   "outputs": [
    {
     "data": {
      "text/plain": [
       "Sequential(\n",
       "  (0): Dropout(p=0.5, inplace=False)\n",
       "  (1): Linear(in_features=9216, out_features=4096, bias=True)\n",
       "  (2): ReLU(inplace=True)\n",
       "  (3): Dropout(p=0.5, inplace=False)\n",
       "  (4): Linear(in_features=4096, out_features=4096, bias=True)\n",
       "  (5): ReLU(inplace=True)\n",
       "  (6): Linear(in_features=4096, out_features=1000, bias=True)\n",
       ")"
      ]
     },
     "execution_count": 69,
     "metadata": {},
     "output_type": "execute_result"
    }
   ],
   "source": [
    "import json\n",
    "import matplotlib.pyplot as plt\n",
    "import numpy as np\n",
    "import torch\n",
    "from torch import nn, optim\n",
    "from torchvision import datasets, transforms, models\n",
    "from collections import OrderedDict\n",
    "from PIL import Image\n",
    "\n",
    "num_classes = 512\n",
    "\n",
    "model = models.alexnet(weights=models.AlexNet_Weights.DEFAULT)\n",
    "\n",
    "num_ftrs = model.classifier[6].in_features\n",
    "#model.classifier[6] = nn.Linear(num_ftrs,num_classes)\n",
    "\n",
    "model.classifier"
   ]
  },
  {
   "cell_type": "code",
   "execution_count": 70,
   "id": "d14fbc17-2c24-401a-8755-83f3ae1fe91d",
   "metadata": {},
   "outputs": [
    {
     "data": {
      "text/plain": [
       "Sequential(\n",
       "  (0): Dropout(p=0.5, inplace=False)\n",
       "  (1): Linear(in_features=9216, out_features=4096, bias=True)\n",
       "  (2): ReLU(inplace=True)\n",
       "  (3): Dropout(p=0.5, inplace=False)\n",
       "  (4): Linear(in_features=4096, out_features=4096, bias=True)\n",
       "  (5): ReLU(inplace=True)\n",
       "  (6): Linear(in_features=4096, out_features=512, bias=True)\n",
       ")"
      ]
     },
     "execution_count": 70,
     "metadata": {},
     "output_type": "execute_result"
    }
   ],
   "source": [
    "\n",
    "model.classifier[6] = nn.Linear(num_ftrs,num_classes)\n",
    "\n",
    "model.classifier"
   ]
  },
  {
   "cell_type": "code",
   "execution_count": null,
   "id": "04362dd6-71e1-414c-b96c-5bfed2d1e2ef",
   "metadata": {},
   "outputs": [],
   "source": []
  }
 ],
 "metadata": {
  "kernelspec": {
   "display_name": "Python 3 (ipykernel)",
   "language": "python",
   "name": "python3"
  },
  "language_info": {
   "codemirror_mode": {
    "name": "ipython",
    "version": 3
   },
   "file_extension": ".py",
   "mimetype": "text/x-python",
   "name": "python",
   "nbconvert_exporter": "python",
   "pygments_lexer": "ipython3",
   "version": "3.11.5"
  }
 },
 "nbformat": 4,
 "nbformat_minor": 5
}
